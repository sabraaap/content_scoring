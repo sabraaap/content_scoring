{
 "cells": [
  {
   "cell_type": "code",
   "execution_count": null,
   "metadata": {},
   "outputs": [],
   "source": [
    "import os\n",
    "import argparse\n",
    "import re\n",
    "import time\n",
    "import httplib2\n",
    "import pickle\n",
    "from pathlib import Path\n",
    "\n",
    "from apiclient.discovery import build\n",
    "from oauth2client import client\n",
    "from oauth2client import file\n",
    "from oauth2client import tools\n",
    "\n",
    "import pandas as pd\n",
    "import numpy as np\n",
    "import requests\n",
    "from bs4 import BeautifulSoup\n",
    "import matplotlib.pyplot as plt\n",
    "import seaborn as sns\n",
    "from scipy import stats\n",
    "from dotenv import load_dotenv\n",
    "\n",
    "load_dotenv()"
   ]
  },
  {
   "cell_type": "markdown",
   "metadata": {},
   "source": [
    "\n",
    "# Data Collection"
   ]
  },
  {
   "cell_type": "markdown",
   "metadata": {},
   "source": [
    "## Google Analytics data"
   ]
  },
  {
   "cell_type": "markdown",
   "metadata": {},
   "source": [
    "### Initialise GA"
   ]
  },
  {
   "cell_type": "code",
   "execution_count": null,
   "metadata": {
    "tags": []
   },
   "outputs": [],
   "source": [
    "SCOPES = [\"https://www.googleapis.com/auth/analytics.readonly\"]\n",
    "\n",
    "# Path to client_secrets.json file.\n",
    "CLIENT_SECRETS_PATH = \"client_secrets.json\"\n",
    "VIEW_ID = os.environ[\"VIEW_ID\"]  # client dependent\n",
    "\n",
    "# Parse command-line arguments.\n",
    "parser = argparse.ArgumentParser(\n",
    "    formatter_class=argparse.RawDescriptionHelpFormatter, parents=[tools.argparser]\n",
    ")\n",
    "flags = parser.parse_args([])\n",
    "\n",
    "# Set up a Flow object to be used if we need to authenticate.\n",
    "flow = client.flow_from_clientsecrets(\n",
    "    CLIENT_SECRETS_PATH,\n",
    "    scope=SCOPES,\n",
    "    message=tools.message_if_missing(CLIENT_SECRETS_PATH),\n",
    ")\n",
    "\n",
    "# Prepare credentials, and authorize HTTP object with them.\n",
    "# If the credentials don't exist or are invalid run through the native client\n",
    "# flow. The Storage object will ensure that if successful the good\n",
    "# credentials will get written back to a file.\n",
    "storage = file.Storage(\"analyticsreporting.dat\")\n",
    "credentials = storage.get()\n",
    "if credentials is None or credentials.invalid:\n",
    "    credentials = tools.run_flow(flow, storage, flags)\n",
    "http = credentials.authorize(http=httplib2.Http())\n",
    "\n",
    "# Build the service object.\n",
    "analytics = build(\"analyticsreporting\", \"v4\", http=http)"
   ]
  },
  {
   "cell_type": "markdown",
   "metadata": {},
   "source": [
    "### Query GA API for GA Data"
   ]
  },
  {
   "cell_type": "markdown",
   "metadata": {},
   "source": [
    "Not all metrics and dimension can be queried together in GA. In order to create only valid combinations of metrics and dimensions, four separate requests were made. "
   ]
  },
  {
   "cell_type": "markdown",
   "metadata": {},
   "source": [
    "#### Request 1"
   ]
  },
  {
   "cell_type": "code",
   "execution_count": null,
   "metadata": {},
   "outputs": [],
   "source": [
    "response_1 = (\n",
    "    analytics.reports()\n",
    "    .batchGet(\n",
    "        body={\n",
    "            \"reportRequests\": [\n",
    "                {\n",
    "                    \"viewId\": VIEW_ID,\n",
    "                    \"dateRanges\": [{\"startDate\": \"181daysAgo\", \"endDate\": \"yesterday\"}],\n",
    "                    \"samplingLevel\": \"LARGE\",\n",
    "                    \"metrics\": [\n",
    "                        {\"expression\": \"ga:sessions\"},\n",
    "                        {\"expression\": \"ga:pageviews\"},\n",
    "                        {\"expression\": \"ga:uniquePageviews\"},\n",
    "                        {\"expression\": \"ga:entrances\"},\n",
    "                        {\"expression\": \"ga:bounces\"},\n",
    "                        {\"expression\": \"ga:exits\"},\n",
    "                        {\"expression\": \"ga:timeOnPage\"},\n",
    "                        {\"expression\": \"ga:sessionDuration\"},\n",
    "                        {\"expression\": \"ga:pageviewsPerSession\"},\n",
    "                    ],\n",
    "                    \"dimensions\": [{\"name\": \"ga:pagePath\"}],\n",
    "                    \"dimensionFilterClauses\": [\n",
    "                        {\n",
    "                            \"filters\": [\n",
    "                                {\n",
    "                                    \"dimensionName\": \"ga:hostname\",\n",
    "                                    \"not\": False,\n",
    "                                    \"operator\": \"PARTIAL\",\n",
    "                                    \"expressions\": os.environ[\"HOSTNAME\"],  # client dependent\n",
    "                                    \"caseSensitive\": False,\n",
    "                                }\n",
    "                            ],\n",
    "                        }\n",
    "                    ],\n",
    "                    \"metricFilterClauses\": [{}],\n",
    "                    \"pageSize\": 100000,\n",
    "                }\n",
    "            ]\n",
    "        }\n",
    "    )\n",
    "    .execute()\n",
    ")"
   ]
  },
  {
   "cell_type": "markdown",
   "metadata": {},
   "source": [
    "#### Request 2"
   ]
  },
  {
   "cell_type": "code",
   "execution_count": null,
   "metadata": {},
   "outputs": [],
   "source": [
    "response_2 = (\n",
    "    analytics.reports()\n",
    "    .batchGet(\n",
    "        body={\n",
    "            \"reportRequests\": [\n",
    "                {\n",
    "                    \"viewId\": VIEW_ID,\n",
    "                    \"dateRanges\": [{\"startDate\": \"181daysAgo\", \"endDate\": \"yesterday\"}],\n",
    "                    \"samplingLevel\": \"LARGE\",\n",
    "                    \"dimensions\": [{\"name\": \"ga:pagePath\"}, {\"name\": \"ga:segment\"}],\n",
    "                    \"dimensionFilterClauses\": [\n",
    "                        {\n",
    "                            \"filters\": [\n",
    "                                {\n",
    "                                    \"dimensionName\": \"ga:hostname\",\n",
    "                                    \"not\": False,\n",
    "                                    \"operator\": \"PARTIAL\",\n",
    "                                    \"expressions\": os.environ[\"HOSTNAME\"],  # client dependent\n",
    "                                    \"caseSensitive\": False,\n",
    "                                }\n",
    "                            ],\n",
    "                        }\n",
    "                    ],\n",
    "                    \"metrics\": [\n",
    "                        {\"expression\": \"ga:sessions\"},\n",
    "                        {\"expression\": \"ga:pageviews\"},\n",
    "                        {\"expression\": \"ga:uniquePageviews\"},\n",
    "                        {\"expression\": \"ga:entrances\"},\n",
    "                        {\"expression\": \"ga:bounces\"},\n",
    "                    ],\n",
    "                    \"metricFilterClauses\": [{}],\n",
    "                    # Organic Traffic - built in GA segment ID 5\n",
    "                    \"segments\": [{\"segmentId\": \"gaid::-5\"},],\n",
    "                    \"pageSize\": 100000,\n",
    "                }\n",
    "            ]\n",
    "        }\n",
    "    )\n",
    "    .execute()\n",
    ")"
   ]
  },
  {
   "cell_type": "markdown",
   "metadata": {},
   "source": [
    "#### Request 3"
   ]
  },
  {
   "cell_type": "code",
   "execution_count": null,
   "metadata": {},
   "outputs": [],
   "source": [
    "response_3 = (\n",
    "    analytics.reports()\n",
    "    .batchGet(\n",
    "        body={\n",
    "            \"reportRequests\": [\n",
    "                {\n",
    "                    \"viewId\": VIEW_ID,\n",
    "                    \"dateRanges\": [{\"startDate\": \"181daysAgo\", \"endDate\": \"yesterday\"}],\n",
    "                    \"samplingLevel\": \"LARGE\",\n",
    "                    \"dimensions\": [{\"name\": \"ga:pagePath\"}],\n",
    "                    \"dimensionFilterClauses\": [\n",
    "                        {\n",
    "                            \"filters\": [\n",
    "                                {\n",
    "                                    \"dimensionName\": \"ga:hostname\",\n",
    "                                    \"not\": False,\n",
    "                                    \"operator\": \"PARTIAL\",\n",
    "                                    \"expressions\": os.environ[\"HOSTNAME\"],  # client dependent\n",
    "                                    \"caseSensitive\": False,\n",
    "                                },\n",
    "                            ],\n",
    "                        },\n",
    "                        {\n",
    "                            \"operator\": \"OR\",\n",
    "                            \"filters\": [\n",
    "                                {\n",
    "                                    \"dimensionName\": \"ga:eventCategory\",\n",
    "                                    \"not\": False,\n",
    "                                    \"operator\": \"REGEXP\",\n",
    "                                    \"expressions\": \".*(email|mailto|contact|tel|phone|call|number|conversion|purchase|download|pdf|enquiry).*\",\n",
    "                                    \"caseSensitive\": False,\n",
    "                                },\n",
    "                                {\n",
    "                                    \"dimensionName\": \"ga:eventAction\",\n",
    "                                    \"not\": False,\n",
    "                                    \"operator\": \"REGEXP\",\n",
    "                                    \"expressions\": \".*(email|mailto|contact|tel|phone|call|number|conversion|purchase|download|pdf|enquiry).*\",\n",
    "                                    \"caseSensitive\": False,\n",
    "                                },\n",
    "                            ],\n",
    "                        },\n",
    "                    ],\n",
    "                    \"metrics\": [{\"expression\": \"ga:uniqueEvents\"},],\n",
    "                    \"metricFilterClauses\": [{}],\n",
    "                    \"pageSize\": 100000,\n",
    "                }\n",
    "            ]\n",
    "        }\n",
    "    )\n",
    "    .execute()\n",
    ")"
   ]
  },
  {
   "cell_type": "markdown",
   "metadata": {},
   "source": [
    "#### Request 4"
   ]
  },
  {
   "cell_type": "code",
   "execution_count": null,
   "metadata": {},
   "outputs": [],
   "source": [
    "response_4 = (\n",
    "    analytics.reports()\n",
    "    .batchGet(\n",
    "        body={\n",
    "            \"reportRequests\": [\n",
    "                {\n",
    "                    \"viewId\": VIEW_ID,\n",
    "                    \"dateRanges\": [{\"startDate\": \"181daysAgo\", \"endDate\": \"yesterday\"}],\n",
    "                    \"samplingLevel\": \"LARGE\",\n",
    "                    \"dimensions\": [{\"name\": \"ga:goalCompletionLocation\"},],\n",
    "                    \"dimensionFilterClauses\": [\n",
    "                        {\n",
    "                            \"filters\": [\n",
    "                                {\n",
    "                                    \"dimensionName\": \"ga:goalCompletionLocation\",\n",
    "                                    \"not\": False,\n",
    "                                    \"operator\": \"REGEXP\",\n",
    "                                    \"expressions\": f\"^{os.environ['HOSTNAME']}\",  # client dependent\n",
    "                                    \"caseSensitive\": False,\n",
    "                                },\n",
    "                            ]\n",
    "                        },\n",
    "                    ],\n",
    "                    \"metrics\": [\n",
    "                        {\"expression\": \"ga:goal5Completions\"},  # client dependent\n",
    "                        {\"expression\": \"ga:goal7Completions\"},  # client dependent\n",
    "                        {\"expression\": \"ga:goal9Completions\"},  # client dependent\n",
    "                    ],\n",
    "                    \"metricFilterClauses\": [\n",
    "                        {\n",
    "                            \"operator\": \"OR\",\n",
    "                            \"filters\": [\n",
    "                                {\n",
    "                                    \"metricName\": \"ga:goal5Completions\",  # client dependent\n",
    "                                    \"not\": False,\n",
    "                                    \"operator\": \"GREATER_THAN\",\n",
    "                                    \"comparisonValue\": \"0\",\n",
    "                                },\n",
    "                                {\n",
    "                                    \"metricName\": \"ga:goal7Completions\",  # client dependent\n",
    "                                    \"not\": False,\n",
    "                                    \"operator\": \"GREATER_THAN\",\n",
    "                                    \"comparisonValue\": \"0\",\n",
    "                                },\n",
    "                                {\n",
    "                                    \"metricName\": \"ga:goal9Completions\",  # client dependent\n",
    "                                    \"not\": False,\n",
    "                                    \"operator\": \"GREATER_THAN\",\n",
    "                                    \"comparisonValue\": \"0\",\n",
    "                                },\n",
    "                            ],\n",
    "                        }\n",
    "                    ],\n",
    "                    \"pageSize\": 100000,\n",
    "                }\n",
    "            ]\n",
    "        }\n",
    "    )\n",
    "    .execute()\n",
    ")"
   ]
  },
  {
   "cell_type": "markdown",
   "metadata": {},
   "source": [
    "### Turn GA API response into Dataframe"
   ]
  },
  {
   "cell_type": "markdown",
   "metadata": {},
   "source": [
    "#### Create DataFrame 1"
   ]
  },
  {
   "cell_type": "code",
   "execution_count": null,
   "metadata": {},
   "outputs": [],
   "source": [
    "for report in response_1.get(\"reports\", {}):\n",
    "    rows = report.get(\"data\", {}).get(\"rows\", [])\n",
    "\n",
    "    sessions = []\n",
    "    pages = []\n",
    "    pageviews = []\n",
    "    unique_pageviews = []\n",
    "    entrances = []\n",
    "    bounces = []\n",
    "    exits = []\n",
    "    time_on_page = []\n",
    "    session_duration = []\n",
    "    pages_per_session = []\n",
    "\n",
    "    for row in rows:\n",
    "        dimensions = row.get(\"dimensions\", [])\n",
    "        metrics = row.get(\"metrics\", [])\n",
    "\n",
    "        pages.append(dimensions[0])\n",
    "\n",
    "        sessions.append(metrics[0][\"values\"][0])\n",
    "        pageviews.append(metrics[0][\"values\"][1])\n",
    "        unique_pageviews.append(metrics[0][\"values\"][2])\n",
    "        entrances.append(metrics[0][\"values\"][3])\n",
    "        bounces.append(metrics[0][\"values\"][4])\n",
    "        exits.append(metrics[0][\"values\"][5])\n",
    "        time_on_page.append(metrics[0][\"values\"][6])\n",
    "        session_duration.append(metrics[0][\"values\"][7])\n",
    "        pages_per_session.append(metrics[0][\"values\"][8])\n",
    "\n",
    "    ga_data_1 = pd.DataFrame(\n",
    "        {\n",
    "            \"Page\": pages,\n",
    "            \"Sessions\": sessions,\n",
    "            \"Pageviews\": pageviews,\n",
    "            \"Unique Pageviews\": unique_pageviews,\n",
    "            \"Entrances\": entrances,\n",
    "            \"Bounces\": bounces,\n",
    "            \"Time on Page (s)\": time_on_page,\n",
    "            \"Exits\": exits,\n",
    "            \"Session Duration (s)\": session_duration,\n",
    "            \"Pages / Session\": pages_per_session,\n",
    "        }\n",
    "    )"
   ]
  },
  {
   "cell_type": "markdown",
   "metadata": {},
   "source": [
    "#### Create DataFrame 2"
   ]
  },
  {
   "cell_type": "code",
   "execution_count": null,
   "metadata": {},
   "outputs": [],
   "source": [
    "for report in response_2.get(\"reports\", {}):\n",
    "    rows = report.get(\"data\", {}).get(\"rows\", [])\n",
    "\n",
    "    sessions = []\n",
    "    pages = []\n",
    "    pageviews = []\n",
    "    unique_pageviews = []\n",
    "    entrances = []\n",
    "    bounces = []\n",
    "\n",
    "    for row in rows:\n",
    "        dimensions = row.get(\"dimensions\", [])\n",
    "        metrics = row.get(\"metrics\", [])\n",
    "\n",
    "        pages.append(dimensions[0])\n",
    "\n",
    "        sessions.append(metrics[0][\"values\"][0])\n",
    "        pageviews.append(metrics[0][\"values\"][1])\n",
    "        unique_pageviews.append(metrics[0][\"values\"][2])\n",
    "        entrances.append(metrics[0][\"values\"][3])\n",
    "        bounces.append(metrics[0][\"values\"][4])\n",
    "\n",
    "    ga_data_2 = pd.DataFrame(\n",
    "        {\n",
    "            \"Page\": pages,\n",
    "            \"Organic Pageviews\": pageviews,\n",
    "            \"Organic Unique Pageviews\": unique_pageviews,\n",
    "            \"Organic Entrances\": entrances,\n",
    "            \"Organic Bounces\": bounces,\n",
    "        }\n",
    "    )"
   ]
  },
  {
   "cell_type": "markdown",
   "metadata": {},
   "source": [
    "#### Create DataFrame 3"
   ]
  },
  {
   "cell_type": "code",
   "execution_count": null,
   "metadata": {},
   "outputs": [],
   "source": [
    "for report in response_3.get(\"reports\", {}):\n",
    "    rows = report.get(\"data\", {}).get(\"rows\", [])\n",
    "\n",
    "    pages = []\n",
    "    unique_events = []\n",
    "\n",
    "    for row in rows:\n",
    "        dimensions = row.get(\"dimensions\", [])\n",
    "        metrics = row.get(\"metrics\", [])\n",
    "\n",
    "        pages.append(dimensions[0])\n",
    "\n",
    "        unique_events.append(metrics[0][\"values\"][0])\n",
    "\n",
    "    ga_data_3 = pd.DataFrame({\"Page\": pages, \"Unique Events\": unique_events,})"
   ]
  },
  {
   "cell_type": "markdown",
   "metadata": {},
   "source": [
    "#### Create DataFrame 4"
   ]
  },
  {
   "cell_type": "code",
   "execution_count": null,
   "metadata": {},
   "outputs": [],
   "source": [
    "for report in response_4.get(\"reports\", {}):\n",
    "    rows = report.get(\"data\", {}).get(\"rows\", [])\n",
    "\n",
    "    pages = []\n",
    "    goal_completions_1 = []\n",
    "    goal_completions_2 = []\n",
    "    goal_completions_3 = []\n",
    "\n",
    "    for row in rows:\n",
    "        dimensions = row.get(\"dimensions\", [])\n",
    "        metrics = row.get(\"metrics\", [])\n",
    "\n",
    "        pages.append(dimensions[0])\n",
    "\n",
    "        goal_completions_1.append(metrics[0][\"values\"][0])\n",
    "        goal_completions_2.append(metrics[0][\"values\"][1])\n",
    "        goal_completions_3.append(metrics[0][\"values\"][2])\n",
    "\n",
    "    ga_data_4 = pd.DataFrame(\n",
    "        {\n",
    "            \"Page\": pages,\n",
    "            \"Goal Completions (1)\": goal_completions_1,\n",
    "            \"Goal Completions (2)\": goal_completions_2,\n",
    "            \"Goal Completions (3)\": goal_completions_3,\n",
    "        },\n",
    "    )"
   ]
  },
  {
   "cell_type": "markdown",
   "metadata": {},
   "source": [
    "### Merge GA Data"
   ]
  },
  {
   "cell_type": "code",
   "execution_count": null,
   "metadata": {},
   "outputs": [],
   "source": [
    "ga_data_merged_1 = pd.merge(ga_data_1, ga_data_2, on=\"Page\", how=\"outer\")\n",
    "\n",
    "ga_data_merged_2 = pd.merge(ga_data_3, ga_data_4, on=\"Page\", how=\"outer\")\n",
    "\n",
    "ga_data_merged_final = pd.merge(\n",
    "    ga_data_merged_1, ga_data_merged_2, on=\"Page\", how=\"outer\"\n",
    ")"
   ]
  },
  {
   "cell_type": "markdown",
   "metadata": {},
   "source": [
    "### Clean and Prepare GA Data"
   ]
  },
  {
   "cell_type": "markdown",
   "metadata": {},
   "source": [
    "#### Set data types and fill N/A's"
   ]
  },
  {
   "cell_type": "code",
   "execution_count": null,
   "metadata": {},
   "outputs": [],
   "source": [
    "ga_data_merged_final[\"Page\"] = ga_data_merged_final[\"Page\"].astype(\"string\")\n",
    "\n",
    "ga_data_merged_final[\"Sessions\"] = (\n",
    "    ga_data_merged_final[\"Sessions\"].fillna(0).astype(\"int\")\n",
    ")\n",
    "ga_data_merged_final[\"Pageviews\"] = (\n",
    "    ga_data_merged_final[\"Pageviews\"].fillna(0).astype(\"int\")\n",
    ")\n",
    "ga_data_merged_final[\"Unique Pageviews\"] = (\n",
    "    ga_data_merged_final[\"Unique Pageviews\"].fillna(0).astype(\"int\")\n",
    ")\n",
    "ga_data_merged_final[\"Entrances\"] = (\n",
    "    ga_data_merged_final[\"Entrances\"].fillna(0).astype(\"int\")\n",
    ")\n",
    "ga_data_merged_final[\"Bounces\"] = (\n",
    "    ga_data_merged_final[\"Bounces\"].fillna(0).astype(\"int\")\n",
    ")\n",
    "ga_data_merged_final[\"Exits\"] = ga_data_merged_final[\"Exits\"].fillna(0).astype(\"int\")\n",
    "ga_data_merged_final[\"Organic Pageviews\"] = (\n",
    "    ga_data_merged_final[\"Organic Pageviews\"].fillna(0).astype(\"int\")\n",
    ")\n",
    "ga_data_merged_final[\"Organic Unique Pageviews\"] = (\n",
    "    ga_data_merged_final[\"Organic Pageviews\"].fillna(0).astype(\"int\")\n",
    ")\n",
    "ga_data_merged_final[\"Organic Entrances\"] = (\n",
    "    ga_data_merged_final[\"Organic Entrances\"].fillna(0).astype(\"int\")\n",
    ")\n",
    "ga_data_merged_final[\"Organic Bounces\"] = (\n",
    "    ga_data_merged_final[\"Organic Bounces\"].fillna(0).astype(\"int\")\n",
    ")\n",
    "ga_data_merged_final[\"Unique Events\"] = (\n",
    "    ga_data_merged_final[\"Unique Events\"].fillna(0).astype(\"int\")\n",
    ")\n",
    "ga_data_merged_final[\"Goal Completions (1)\"] = (\n",
    "    ga_data_merged_final[\"Goal Completions (1)\"].fillna(0).astype(\"int\")\n",
    ")\n",
    "ga_data_merged_final[\"Goal Completions (2)\"] = (\n",
    "    ga_data_merged_final[\"Goal Completions (2)\"].fillna(0).astype(\"int\")\n",
    ")\n",
    "ga_data_merged_final[\"Goal Completions (3)\"] = (\n",
    "    ga_data_merged_final[\"Goal Completions (3)\"].fillna(0).astype(\"int\")\n",
    ")\n",
    "\n",
    "ga_data_merged_final[\"Time on Page (s)\"] = (\n",
    "    ga_data_merged_final[\"Time on Page (s)\"].fillna(0).astype(\"float\")\n",
    ")\n",
    "ga_data_merged_final[\"Session Duration (s)\"] = (\n",
    "    ga_data_merged_final[\"Session Duration (s)\"].fillna(0).astype(\"float\")\n",
    ")\n",
    "ga_data_merged_final[\"Pages / Session\"] = (\n",
    "    ga_data_merged_final[\"Pages / Session\"].fillna(0).astype(\"float\")\n",
    ")"
   ]
  },
  {
   "cell_type": "markdown",
   "metadata": {},
   "source": [
    "#### Clean page data"
   ]
  },
  {
   "cell_type": "code",
   "execution_count": null,
   "metadata": {},
   "outputs": [],
   "source": [
    "from constants import COUNTRY_CODES, LANGUAGE_CODES\n",
    "\n",
    "language_codes = \"|\".join(COUNTRY_CODES)\n",
    "country_codes = \"|\".join(LANGUAGE_CODES)\n",
    "\n",
    "ga_data_clean = ga_data_merged_final\n",
    "ga_data_clean[\"Page\"] = ga_data_clean[\"Page\"].str.replace(\n",
    "    \".googleweblight.com\", \"\", regex=True\n",
    ")  # client dependent\n",
    "ga_data_clean[\"Page\"] = ga_data_clean[\"Page\"].apply(\n",
    "    lambda x: x + \"/\" if x[-1] != \"/\" else x\n",
    ")\n",
    "ga_data_clean[\"Page\"] = ga_data_clean[\"Page\"].str.replace(\"\\\\?.*\", \"\", regex=True)\n",
    "ga_data_clean[\"Page\"] = ga_data_clean[\"Page\"].str.replace(\n",
    "    f\"{os.environ['HOSTNAME']}/({language_codes})(-({country_codes}))?/\",\n",
    "    f\"{os.environ['HOSTNAME']}/\",\n",
    "    regex=True,\n",
    ")\n",
    "\n",
    "ga_data_clean = ga_data_clean[~ga_data_clean[\"Page\"].str.contains(\"search\")]"
   ]
  },
  {
   "cell_type": "markdown",
   "metadata": {},
   "source": [
    "#### Aggregate data by Page"
   ]
  },
  {
   "cell_type": "code",
   "execution_count": null,
   "metadata": {},
   "outputs": [],
   "source": [
    "ga_data_agg = (\n",
    "    ga_data_clean.groupby(\"Page\")\n",
    "    .agg(\n",
    "        {\n",
    "            \"Sessions\": \"sum\",\n",
    "            \"Pageviews\": \"sum\",\n",
    "            \"Unique Pageviews\": \"sum\",\n",
    "            \"Entrances\": \"sum\",\n",
    "            \"Bounces\": \"sum\",\n",
    "            \"Exits\": \"sum\",\n",
    "            \"Time on Page (s)\": \"sum\",\n",
    "            \"Session Duration (s)\": \"sum\",\n",
    "            \"Pages / Session\": \"max\",\n",
    "            \"Organic Pageviews\": \"sum\",\n",
    "            \"Organic Unique Pageviews\": \"sum\",\n",
    "            \"Organic Entrances\": \"sum\",\n",
    "            \"Organic Bounces\": \"sum\",\n",
    "            \"Unique Events\": \"sum\",\n",
    "            \"Goal Completions (1)\": \"sum\",\n",
    "            \"Goal Completions (2)\": \"sum\",\n",
    "            \"Goal Completions (3)\": \"sum\",\n",
    "        }\n",
    "    )\n",
    "    .sort_values(by=\"Pageviews\")\n",
    ")"
   ]
  },
  {
   "cell_type": "markdown",
   "metadata": {},
   "source": [
    "#### Calculate ratio metrics"
   ]
  },
  {
   "cell_type": "code",
   "execution_count": null,
   "metadata": {
    "scrolled": true
   },
   "outputs": [],
   "source": [
    "ga_data_agg_final = ga_data_agg.copy()\n",
    "\n",
    "ga_data_agg_final[\"Goal Completions (All)\"] = (\n",
    "    ga_data_merged_final[\"Goal Completions (1)\"]\n",
    "    + ga_data_merged_final[\"Goal Completions (2)\"]\n",
    "    + ga_data_merged_final[\"Goal Completions (3)\"]\n",
    ")\n",
    "\n",
    "ga_data_agg_final[\"Entrance Rate\"] = (\n",
    "    ga_data_agg_final[\"Entrances\"] / ga_data_agg_final[\"Pageviews\"]\n",
    ")\n",
    "ga_data_agg_final[\"Bounce Rate\"] = (\n",
    "    ga_data_agg_final[\"Bounces\"] / ga_data_agg_final[\"Entrances\"]\n",
    ")\n",
    "ga_data_agg_final[\"Avg. Time on Page (s)\"] = (\n",
    "    ga_data_agg_final[\"Time on Page (s)\"] / ga_data_agg_final[\"Pageviews\"]\n",
    ")\n",
    "ga_data_agg_final[\"Exit Rate\"] = (\n",
    "    ga_data_agg_final[\"Exits\"] / ga_data_agg_final[\"Pageviews\"]\n",
    ")\n",
    "ga_data_agg_final[\"Avg. Session Duration (s)\"] = (\n",
    "    ga_data_agg_final[\"Session Duration (s)\"] / ga_data_agg_final[\"Sessions\"]\n",
    ")\n",
    "\n",
    "ga_data_agg_final[\"Organic Entrance Rate\"] = (\n",
    "    ga_data_agg_final[\"Organic Entrances\"] / ga_data_agg_final[\"Organic Pageviews\"]\n",
    ")\n",
    "ga_data_agg_final[\"Organic Bounce Rate\"] = (\n",
    "    ga_data_agg_final[\"Organic Bounces\"] / ga_data_agg_final[\"Organic Entrances\"]\n",
    ")\n",
    "\n",
    "ga_data_agg_final[\"Event Rate\"] = (\n",
    "    ga_data_agg_final[\"Unique Events\"] / ga_data_agg_final[\"Unique Pageviews\"]\n",
    ")\n",
    "\n",
    "ga_data_agg_final[\"Conversion Rate (1)\"] = (\n",
    "    ga_data_agg_final[\"Goal Completions (1)\"] / ga_data_agg_final[\"Pageviews\"]\n",
    ")\n",
    "ga_data_agg_final[\"Conversion Rate (2)\"] = (\n",
    "    ga_data_agg_final[\"Goal Completions (2)\"] / ga_data_agg_final[\"Pageviews\"]\n",
    ")\n",
    "ga_data_agg_final[\"Conversion Rate (3)\"] = (\n",
    "    ga_data_agg_final[\"Goal Completions (3)\"] / ga_data_agg_final[\"Pageviews\"]\n",
    ")\n",
    "ga_data_agg_final[\"Conversion Rate (All)\"] = (\n",
    "    ga_data_agg_final[\"Goal Completions (All)\"] / ga_data_agg_final[\"Unique Pageviews\"]\n",
    ")\n",
    "\n",
    "ga_data_agg_final = pd.DataFrame(\n",
    "    ga_data_agg_final[\n",
    "        (ga_data_agg_final[\"Pageviews\"] > 100) & (ga_data_agg_final[\"Sessions\"] > 0)\n",
    "    ]\n",
    ")\n",
    "\n",
    "\n",
    "\n",
    "ga_data_agg_final = ga_data_agg_final.fillna(0)"
   ]
  },
  {
   "cell_type": "markdown",
   "metadata": {},
   "source": [
    "### Scrape Site for Meta Data"
   ]
  },
  {
   "cell_type": "markdown",
   "metadata": {},
   "source": [
    "#### Derive page list from dataframe"
   ]
  },
  {
   "cell_type": "code",
   "execution_count": null,
   "metadata": {},
   "outputs": [],
   "source": [
    "ga_data_agg_final[\"URL\"] = \"https://\" + ga_data_agg_final.index.to_series()\n",
    "\n",
    "url_list = ga_data_agg_final[\"URL\"].to_list()"
   ]
  },
  {
   "cell_type": "markdown",
   "metadata": {},
   "source": [
    "#### Make HTTP request and store meta data"
   ]
  },
  {
   "cell_type": "code",
   "execution_count": null,
   "metadata": {},
   "outputs": [],
   "source": [
    "pickled_meta_data_file = Path(\"meta_data.pickle\")\n",
    "if pickled_meta_data_file.is_file():\n",
    "    with open(pickled_meta_data_file, \"rb\") as f:\n",
    "        pickled_meta_data = pickle.load(f)\n",
    "else:\n",
    "    pickled_meta_data = {}\n",
    "\n",
    "meta_data_list = {}\n",
    "for url in url_list:\n",
    "    if url in pickled_meta_data.keys():\n",
    "        continue\n",
    "    else:\n",
    "        response = requests.get(url)\n",
    "\n",
    "        status_okay = [200, 204]\n",
    "        if response.status_code in status_okay:\n",
    "            html = BeautifulSoup(response.text, \"html.parser\")\n",
    "\n",
    "            tree_selectors = [\n",
    "                \"page-body\",\n",
    "                \"insightContent\",\n",
    "                \"insightPrintShare\",\n",
    "                \"authorProfile\",\n",
    "                \"hide-print\",\n",
    "            ]  # client dependent location def\n",
    "            meta_tags = [\n",
    "                \"title\",\n",
    "                \"h1\",\n",
    "                \"h2\",\n",
    "                \"h3\",\n",
    "                \"h4\",\n",
    "                \"a\",\n",
    "                \"ul\",\n",
    "                \"ol\",\n",
    "                \"p\",\n",
    "                \"img\",\n",
    "                \"video\",\n",
    "                \"form\",\n",
    "                \"iframe\",\n",
    "            ]\n",
    "            meta_values = {}\n",
    "\n",
    "            for tag in meta_tags:\n",
    "                if tag == \"title\":\n",
    "                    tag_values = []\n",
    "                    tag_values += [tag.text for tag in html.find(\"head\").find_all(tag)]\n",
    "                    meta_values[tag] = tag_values\n",
    "                elif tag != \"a\":\n",
    "                    tag_values = []\n",
    "                    for class_name in tree_selectors:\n",
    "                        if html.find(\"div\", class_=class_name):\n",
    "                            tag_values += [\n",
    "                                tag.text\n",
    "                                for tag in html.find(\"div\", class_=class_name).find_all(tag)\n",
    "                            ]\n",
    "                    meta_values[tag] = tag_values\n",
    "                else:\n",
    "                    tag_values = []\n",
    "                    for class_name in tree_selectors:\n",
    "                        if html.find(\"div\", class_=class_name):\n",
    "                            tag_values += [\n",
    "                                tag[\"href\"]\n",
    "                                for tag in html.find(\"div\", class_=class_name).find_all(\n",
    "                                    tag, href=True\n",
    "                                )\n",
    "                            ]\n",
    "                    meta_values[tag] = tag_values\n",
    "\n",
    "            meta_data_list[url] = meta_values\n",
    "        else:\n",
    "            meta_data_list[url] = {}\n",
    "\n",
    "        if len(meta_data_list.keys()) % 10 == 0:\n",
    "            pickled_meta_data = {\n",
    "                **pickled_meta_data,\n",
    "                **meta_data_list\n",
    "            }\n",
    "            with open(pickled_meta_data_file, \"wb\") as f:\n",
    "                pickle.dump(pickled_meta_data, f)"
   ]
  },
  {
   "cell_type": "code",
   "execution_count": null,
   "metadata": {},
   "outputs": [],
   "source": [
    "meta_data_list = {\n",
    "    **pickled_meta_data,\n",
    "    **meta_data_list\n",
    "}"
   ]
  },
  {
   "cell_type": "markdown",
   "metadata": {},
   "source": [
    "#### Count occurrences of HTML elements and store in dataframe columns"
   ]
  },
  {
   "cell_type": "code",
   "execution_count": null,
   "metadata": {},
   "outputs": [],
   "source": [
    "meta_data = pd.DataFrame()\n",
    "\n",
    "for url in url_list:\n",
    "    for tag, values in meta_data_list[url].items():\n",
    "        meta_data.loc[url, f\"# of {tag}\"] = len(values)"
   ]
  },
  {
   "cell_type": "markdown",
   "metadata": {},
   "source": [
    "#### Count characters of HTML elements and store in dataframe columns"
   ]
  },
  {
   "cell_type": "code",
   "execution_count": null,
   "metadata": {},
   "outputs": [],
   "source": [
    "for url in url_list_sample:\n",
    "    for tag, values in meta_data_list[url].items():\n",
    "        if tag in [\"title\", \"h1\", \"h2\", \"h3\", \"h4\", \"p\"]:\n",
    "            chars = 0\n",
    "            count = 0\n",
    "            for item in values:\n",
    "                chars += len(item)\n",
    "                count += 1\n",
    "            if count > 0:\n",
    "                if tag == \"p\":\n",
    "                    meta_data.loc[url, f\"Total # of characters {tag}\"] = chars\n",
    "                else:\n",
    "                    meta_data.loc[url, f\"Avg. # of characters {tag}\"] = chars / count"
   ]
  },
  {
   "cell_type": "markdown",
   "metadata": {},
   "source": [
    "#### Split out link types"
   ]
  },
  {
   "cell_type": "code",
   "execution_count": null,
   "metadata": {},
   "outputs": [],
   "source": [
    "for url in url_list_sample:\n",
    "    int_outbound_count = 0\n",
    "    tel_count = 0\n",
    "    email_count = 0\n",
    "    ext_outbound_count = 0\n",
    "\n",
    "    for tag, values in meta_data_list[url].items():\n",
    "\n",
    "        if tag == \"a\":\n",
    "\n",
    "            for item in values:\n",
    "                if item and item[0] and item[0] == \"/\":\n",
    "                    item = f\"https://{os.environ['HOSTNAME']}\" + item\n",
    "\n",
    "                if not \"?\" in item and not \"#\" in item:\n",
    "                    if {os.environ['HOSTNAME']} in item:\n",
    "                        int_outbound_count += 1\n",
    "                    elif \"tel:\" in item or \"fax\" in item:\n",
    "                        tel_count += 1\n",
    "                    elif \"@\" in item:\n",
    "                        email_count += 1\n",
    "                    else:\n",
    "                        ext_outbound_count += 1\n",
    "\n",
    "    meta_data.loc[url, \"No of int outbound links\"] = int_outbound_count\n",
    "    meta_data.loc[url, \"No of ext outbound links\"] = ext_outbound_count\n",
    "    meta_data.loc[url, \"No of email links\"] = email_count\n",
    "    meta_data.loc[url, \"No of tel links\"] = tel_count"
   ]
  },
  {
   "cell_type": "markdown",
   "metadata": {},
   "source": [
    "#### Calculate inbound links"
   ]
  },
  {
   "cell_type": "code",
   "execution_count": null,
   "metadata": {},
   "outputs": [],
   "source": [
    "url_count = {url: 0 for url in url_list_sample}\n",
    "meta_data[\"No of inbound links\"] = 0\n",
    "\n",
    "for url in url_list_sample:\n",
    "\n",
    "    for tag, values in meta_data_list[url].items():\n",
    "\n",
    "        if tag == \"a\":\n",
    "\n",
    "            for item in values:\n",
    "\n",
    "                if item and item[0] and item[0] == \"/\":\n",
    "                    item = f\"https://{os.environ['HOSTNAME']}\" + item\n",
    "\n",
    "                item = re.sub(\n",
    "                    r\"{}\\/({})(\\-({}))?/\".format(\n",
    "                        {os.environ['HOSTNAME']}, language_codes, country_codes\n",
    "                    ),\n",
    "                    f\"{os.environ['HOSTNAME']}/\",\n",
    "                    item,\n",
    "                )\n",
    "\n",
    "                if item and item[-1] and item[-1] != \"/\":\n",
    "                    item = item + \"/\"\n",
    "\n",
    "                if item in url_count:\n",
    "                    url_count[item] += 1\n",
    "\n",
    "                    meta_data.loc[url, \"No of inbound links\"] = url_count[item]"
   ]
  },
  {
   "cell_type": "markdown",
   "metadata": {},
   "source": [
    "#### Calculate page path level"
   ]
  },
  {
   "cell_type": "code",
   "execution_count": null,
   "metadata": {},
   "outputs": [],
   "source": [
    "page_path_levels = {}\n",
    "\n",
    "for url in url_list_sample:\n",
    "    page_path = len(url.split(\"/\")) - 4\n",
    "    page_path_levels[url] = page_path\n",
    "    meta_data.loc[url, \"Page path level\"] = page_path_levels[url]\n",
    "\n",
    "meta_data = meta_data.fillna(0)"
   ]
  },
  {
   "cell_type": "markdown",
   "metadata": {},
   "source": [
    "### Merge GA and meta data"
   ]
  },
  {
   "cell_type": "code",
   "execution_count": null,
   "metadata": {},
   "outputs": [],
   "source": [
    "meta_data[\"URL\"] = meta_data.index\n",
    "\n",
    "all_data = pd.merge(\n",
    "    meta_data, ga_data_agg_final_sample, on=\"URL\", how=\"left\"\n",
    ").set_index(\"URL\")"
   ]
  },
  {
   "cell_type": "markdown",
   "metadata": {},
   "source": [
    "# Statistical Analysis"
   ]
  },
  {
   "cell_type": "markdown",
   "metadata": {},
   "source": [
    "## Google Analytics Data"
   ]
  },
  {
   "cell_type": "markdown",
   "metadata": {},
   "source": [
    "### Descriptive statistics"
   ]
  },
  {
   "cell_type": "code",
   "execution_count": null,
   "metadata": {},
   "outputs": [],
   "source": [
    "descr_stats_ga = pd.DataFrame(\n",
    "    {\n",
    "        \"Sessions\": all_data[\"Sessions\"].describe(),\n",
    "        \"Pageviews\": all_data[\"Pageviews\"].describe(),\n",
    "        \"Organic Pageviews\": all_data[\"Organic Pageviews\"].describe(),\n",
    "        \"Unique Pageviews\": all_data[\"Unique Pageviews\"].describe(),\n",
    "        \"Organic Entrances\": all_data[\"Organic Entrances\"].describe(),\n",
    "        \"Entrances\": all_data[\"Entrances\"].describe(),\n",
    "        \"Entrance Rate\": all_data[\"Entrance Rate\"].describe(),\n",
    "        \"Organic Entrance Rate\": all_data[\"Organic Entrance Rate\"].describe(),\n",
    "        \"Bounces\": all_data[\"Bounces\"].describe(),\n",
    "        \"Organic Bounces\": all_data[\"Organic Bounces\"].describe(),\n",
    "        \"Bounce Rate\": all_data[\"Bounce Rate\"].describe(),\n",
    "        \"Organic Bounce Rate\": all_data[\"Organic Bounce Rate\"].describe(),\n",
    "        \"Exits\": all_data[\"Exits\"].describe(),\n",
    "        \"Exit Rate\": all_data[\"Exit Rate\"].describe(),\n",
    "        \"Avg. Session Duration (s)\": all_data[\"Avg. Session Duration (s)\"].describe(),\n",
    "        \"Avg. Time on Page (s)\": all_data[\"Avg. Time on Page (s)\"].describe(),\n",
    "        \"Pages / Session\": all_data[\"Pages / Session\"].describe(),\n",
    "        \"Unique Events\": all_data[\"Unique Events\"].describe(),\n",
    "        \"Event Rate\": all_data[\"Event Rate\"].describe(),\n",
    "        \"Goal Completions (All)\": all_data[\"Goal Completions (All)\"].describe(),\n",
    "        \"Conversion Rate (1)\": all_data[\"Conversion Rate (1)\"].describe(),\n",
    "        \"Conversion Rate (2)\": all_data[\"Conversion Rate (2)\"].describe(),\n",
    "        \"Conversion Rate (3)\": all_data[\"Conversion Rate (3)\"].describe(),\n",
    "        \"Conversion Rate (All)\": all_data[\"Conversion Rate (All)\"].describe(),\n",
    "    }\n",
    ")\n",
    "\n",
    "descr_stats_ga"
   ]
  },
  {
   "cell_type": "markdown",
   "metadata": {},
   "source": [
    "### Distribution"
   ]
  },
  {
   "cell_type": "code",
   "execution_count": null,
   "metadata": {},
   "outputs": [],
   "source": [
    "def plot_distribution_score_metrics(df, skew_table, column_list, transf_type):\n",
    "    fig, axes = plt.subplots(8, 3, figsize=(30, 30))\n",
    "    axes_list = [ax for sublist in axes for ax in sublist]\n",
    "    plt.subplots_adjust(wspace=0.5, hspace=0.5)\n",
    "\n",
    "    for i, column in enumerate(column_list):\n",
    "        sns.histplot(df, x=column, bins=20, kde=True, ax=axes_list[i]).set_title(\n",
    "            f\"{transf_type} skew: {skew_table[column]}\"\n",
    "        )\n",
    "    plt.show()"
   ]
  },
  {
   "cell_type": "code",
   "execution_count": null,
   "metadata": {},
   "outputs": [],
   "source": [
    "columns_list_score_metrics = [\n",
    "    \"Sessions\",\n",
    "    \"Entrances\",\n",
    "    \"Pageviews\",\n",
    "    \"Organic Pageviews\",\n",
    "    \"Unique Pageviews\",\n",
    "    \"Organic Entrances\",\n",
    "    \"Entrance Rate\",\n",
    "    \"Organic Entrance Rate\",\n",
    "    \"Bounces\",\n",
    "    \"Organic Bounces\",\n",
    "    \"Bounce Rate\",\n",
    "    \"Organic Bounce Rate\",\n",
    "    \"Exits\",\n",
    "    \"Exit Rate\",\n",
    "    \"Avg. Session Duration (s)\",\n",
    "    \"Avg. Time on Page (s)\",\n",
    "    \"Pages / Session\",\n",
    "    \"Unique Events\",\n",
    "    \"Event Rate\",\n",
    "    \"Conversion Rate (1)\",\n",
    "    \"Conversion Rate (2)\",\n",
    "    \"Conversion Rate (3)\",\n",
    "    \"Conversion Rate (All)\",\n",
    "    \"Goal Completions (All)\",\n",
    "]"
   ]
  },
  {
   "cell_type": "markdown",
   "metadata": {},
   "source": [
    "#### Without transformation"
   ]
  },
  {
   "cell_type": "code",
   "execution_count": null,
   "metadata": {},
   "outputs": [],
   "source": [
    "original_skew = {}\n",
    "for column in columns_list_score_metrics:\n",
    "    original_skew[column] = all_data[column].skew()\n",
    "\n",
    "%time plot_distribution_score_metrics(all_data, original_skew, columns_list_score_metrics, \"original\")"
   ]
  },
  {
   "cell_type": "markdown",
   "metadata": {},
   "source": [
    "#### After logarithmic transformation"
   ]
  },
  {
   "cell_type": "code",
   "execution_count": null,
   "metadata": {},
   "outputs": [],
   "source": [
    "all_data_log_transf = pd.DataFrame()\n",
    "log_skew = {}\n",
    "for column in columns_list_score_metrics:\n",
    "    all_data_log_transf[column] = np.log10(all_data[column].replace(0, 0.01))\n",
    "    log_skew[column] = all_data_log_transf[column].skew()\n",
    "\n",
    "%time plot_distribution_score_metrics(all_data_log_transf, log_skew, columns_list_score_metrics, \"logarithmic\")"
   ]
  },
  {
   "cell_type": "markdown",
   "metadata": {},
   "source": [
    "#### After Box Cox transformation"
   ]
  },
  {
   "cell_type": "code",
   "execution_count": null,
   "metadata": {},
   "outputs": [],
   "source": [
    "all_data_boxcox_transf = pd.DataFrame(index=all_data.index)\n",
    "boxcox_skew = {}\n",
    "for column in columns_list_score_metrics:\n",
    "    try:\n",
    "        all_data_boxcox_transf[column] = stats.boxcox(\n",
    "            all_data[column].replace(0, 0.01)\n",
    "        )[0]\n",
    "        boxcox_skew[column] = all_data_boxcox_transf[column].skew()\n",
    "    except:\n",
    "        all_data_boxcox_transf[column] = all_data[column]\n",
    "        boxcox_skew[column] = np.nan\n",
    "\n",
    "%time plot_distribution_score_metrics(all_data_boxcox_transf, boxcox_skew, columns_list_score_metrics, \"boxcox\")"
   ]
  },
  {
   "cell_type": "markdown",
   "metadata": {},
   "source": [
    "#### Comparing skews - without and with transformation"
   ]
  },
  {
   "cell_type": "code",
   "execution_count": null,
   "metadata": {},
   "outputs": [],
   "source": [
    "score_metrics_skew_df = pd.DataFrame(\n",
    "    data={\n",
    "        \"Original\": original_skew.values(),\n",
    "        \"Logarithmic\": log_skew.values(),\n",
    "        \"Boxcox\": boxcox_skew.values(),\n",
    "    },\n",
    "    index=original_skew.keys(),\n",
    ")\n",
    "score_metrics_skew_df"
   ]
  },
  {
   "cell_type": "markdown",
   "metadata": {},
   "source": [
    "## Meta data"
   ]
  },
  {
   "cell_type": "markdown",
   "metadata": {},
   "source": [
    "### Descriptive statistics"
   ]
  },
  {
   "cell_type": "code",
   "execution_count": null,
   "metadata": {},
   "outputs": [],
   "source": [
    "descr_stats_meta = pd.DataFrame(\n",
    "    {\n",
    "        \"No of title\": all_data[\"No of title\"].describe(),\n",
    "        \"No of h1\": all_data[\"No of h1\"].describe(),\n",
    "        \"No of h2\": all_data[\"No of h2\"].describe(),\n",
    "        \"No of h3\": all_data[\"No of h3\"].describe(),\n",
    "        \"No of h4\": all_data[\"No of h4\"].describe(),\n",
    "        \"No of a\": all_data[\"No of a\"].describe(),\n",
    "        \"No of ul\": all_data[\"No of ul\"].describe(),\n",
    "        \"No of ol\": all_data[\"No of ol\"].describe(),\n",
    "        \"No of p\": all_data[\"No of p\"].describe(),\n",
    "        \"No of img\": all_data[\"No of img\"].describe(),\n",
    "        \"No of video\": all_data[\"No of video\"].describe(),\n",
    "        \"No of form\": all_data[\"No of form\"].describe(),\n",
    "        \"No of iframe\": all_data[\"No of iframe\"].describe(),\n",
    "        \"Avg. # of characters title\": all_data[\"Avg. # of characters title\"].describe(),\n",
    "        \"Avg. # of characters h1\": all_data[\"Avg. # of characters h1\"].describe(),\n",
    "        \"Avg. # of characters h2\": all_data[\"Avg. # of characters h2\"].describe(),\n",
    "        \"Avg. # of characters h3\": all_data[\"Avg. # of characters h3\"].describe(),\n",
    "        \"Avg. # of characters h4\": all_data[\"Avg. # of characters h4\"].describe(),\n",
    "        \"Total # of characters p\": all_data[\"Total # of characters p\"].describe(),\n",
    "        \"No of int outbound links\": all_data[\"No of int outbound links\"].describe(),\n",
    "        \"No of ext outbound links\": all_data[\"No of ext outbound links\"].describe(),\n",
    "        \"No of email links\": all_data[\"No of email links\"].describe(),\n",
    "        \"No of tel links\": all_data[\"No of tel links\"].describe(),\n",
    "        \"No of inbound links\": all_data[\"No of inbound links\"].describe(),\n",
    "        \"Page path level\": all_data[\"Page path level\"].describe(),\n",
    "    }\n",
    ")\n",
    "\n",
    "descr_stats_meta"
   ]
  },
  {
   "cell_type": "markdown",
   "metadata": {},
   "source": [
    "### Distribution"
   ]
  },
  {
   "cell_type": "code",
   "execution_count": null,
   "metadata": {},
   "outputs": [],
   "source": [
    "def plot_distribution_meta(df, skew_table, column_list, transf_type):\n",
    "    fig2, axes2 = plt.subplots(12, 2, figsize=(30, 50))\n",
    "    axes_list2 = [ax for sublist in axes2 for ax in sublist]\n",
    "    plt.subplots_adjust(wspace=0.5, hspace=0.5)\n",
    "\n",
    "    for i, column in enumerate(column_list):\n",
    "        sns.histplot(df, x=column, bins=20, kde=True, ax=axes_list2[i]).set_title(\n",
    "            f\"{transf_type} skew: {skew_table[column]}\"\n",
    "        )\n",
    "    plt.show()"
   ]
  },
  {
   "cell_type": "code",
   "execution_count": null,
   "metadata": {},
   "outputs": [],
   "source": [
    "columns_list_meta = [\n",
    "    \"No of title\",\n",
    "    \"Avg. # of characters title\",\n",
    "    \"No of h1\",\n",
    "    \"Avg. # of characters h1\",\n",
    "    \"No of h2\",\n",
    "    \"Avg. # of characters h2\",\n",
    "    \"No of h3\",\n",
    "    \"Avg. # of characters h3\",\n",
    "    \"No of h4\",\n",
    "    \"Avg. # of characters h4\",\n",
    "    \"No of p\",\n",
    "    \"Total # of characters p\",\n",
    "    \"No of int outbound links\",\n",
    "    \"No of ext outbound links\",\n",
    "    \"No of email links\",\n",
    "    \"No of tel links\",\n",
    "    \"No of inbound links\",\n",
    "    \"No of form\",\n",
    "    \"No of ul\",\n",
    "    \"No of ol\",\n",
    "    \"No of img\",\n",
    "    \"No of video\",\n",
    "    \"No of iframe\",\n",
    "    \"Page path level\",\n",
    "]"
   ]
  },
  {
   "cell_type": "markdown",
   "metadata": {},
   "source": [
    "#### Without transformation"
   ]
  },
  {
   "cell_type": "code",
   "execution_count": null,
   "metadata": {},
   "outputs": [],
   "source": [
    "meta_original_skew = {}\n",
    "for column in columns_list_meta:\n",
    "    meta_original_skew[column] = all_data[column].skew()\n",
    "\n",
    "%time plot_distribution_meta(all_data, meta_original_skew, columns_list_meta, \"original\")"
   ]
  },
  {
   "cell_type": "markdown",
   "metadata": {},
   "source": [
    "#### After logarithmic transformation"
   ]
  },
  {
   "cell_type": "code",
   "execution_count": null,
   "metadata": {},
   "outputs": [],
   "source": [
    "all_data_log_transf_meta = pd.DataFrame(index=all_data.index)\n",
    "meta_log_skew = {}\n",
    "for column in columns_list_meta:\n",
    "    try:\n",
    "        all_data_log_transf_meta[column] = np.log10(all_data[column].replace(0, 0.01))\n",
    "        meta_log_skew[column] = all_data_log_transf_meta[column].skew()\n",
    "    except:\n",
    "        all_data_log_transf_meta[column] = all_data[column]\n",
    "        meta_log_skew[column] = np.nan\n",
    "\n",
    "%time plot_distribution_meta(all_data_log_transf_meta, meta_log_skew, columns_list_meta, \"logarithmic\")"
   ]
  },
  {
   "cell_type": "markdown",
   "metadata": {},
   "source": [
    "#### After Box Cox transformation"
   ]
  },
  {
   "cell_type": "code",
   "execution_count": null,
   "metadata": {},
   "outputs": [],
   "source": [
    "all_data_boxcox_transf_meta = pd.DataFrame(index=all_data.index)\n",
    "meta_boxcox_skew = {}\n",
    "for column in columns_list_meta:\n",
    "    try:\n",
    "        all_data_boxcox_transf_meta[column] = stats.boxcox(\n",
    "            all_data[column].replace(0, 0.01)\n",
    "        )[0]\n",
    "        meta_boxcox_skew[column] = all_data_boxcox_transf_meta[column].skew()\n",
    "    except:\n",
    "        all_data_boxcox_transf_meta[column] = all_data[column]\n",
    "        meta_boxcox_skew[column] = np.nan\n",
    "\n",
    "%time plot_distribution_meta(all_data_boxcox_transf_meta, meta_boxcox_skew, columns_list_meta, \"boxcox\")"
   ]
  },
  {
   "cell_type": "markdown",
   "metadata": {},
   "source": [
    "#### Comparing skews - without and with transformation"
   ]
  },
  {
   "cell_type": "code",
   "execution_count": null,
   "metadata": {},
   "outputs": [],
   "source": [
    "meta_skew_df = pd.DataFrame(\n",
    "    data={\n",
    "        \"Original\": meta_original_skew.values(),\n",
    "        \"Logarithmic\": meta_log_skew.values(),\n",
    "        \"Boxcox\": meta_boxcox_skew.values(),\n",
    "    },\n",
    "    index=meta_original_skew.keys(),\n",
    ")\n",
    "meta_skew_df"
   ]
  },
  {
   "cell_type": "markdown",
   "metadata": {},
   "source": [
    "## Correlations"
   ]
  },
  {
   "cell_type": "markdown",
   "metadata": {},
   "source": [
    "### Feature Scaling"
   ]
  },
  {
   "cell_type": "markdown",
   "metadata": {},
   "source": [
    "### Standardization (z-score scaling) - only use for (near) normally distributed data!"
   ]
  },
  {
   "cell_type": "code",
   "execution_count": null,
   "metadata": {},
   "outputs": [],
   "source": [
    "def standardize_df(df):\n",
    "    # Returns a copy of df with centred values\n",
    "    cdf = df.copy()\n",
    "    for column in cdf.columns:\n",
    "        cdf[column] = (cdf[column] - cdf[column].mean()) / cdf[column].std()\n",
    "    return cdf"
   ]
  },
  {
   "cell_type": "code",
   "execution_count": null,
   "metadata": {},
   "outputs": [],
   "source": [
    "all_data_standard = standardize_df(all_data)"
   ]
  },
  {
   "cell_type": "code",
   "execution_count": null,
   "metadata": {},
   "outputs": [],
   "source": [
    "# all_data_standard.describe()"
   ]
  },
  {
   "cell_type": "markdown",
   "metadata": {},
   "source": [
    "### Normalization (Min-max scaling) - use for non-normally (skewed) distributed data"
   ]
  },
  {
   "cell_type": "code",
   "execution_count": null,
   "metadata": {},
   "outputs": [],
   "source": [
    "def normalize_df(df):\n",
    "    # Returns a copy of df with centred values\n",
    "    cdf = df.copy()\n",
    "    for column in cdf.columns:\n",
    "        cdf[column] = (cdf[column] - cdf[column].min()) / (\n",
    "            cdf[column].max() - cdf[column].min()\n",
    "        )\n",
    "    return cdf"
   ]
  },
  {
   "cell_type": "code",
   "execution_count": null,
   "metadata": {},
   "outputs": [],
   "source": [
    "all_data_normal = normalize_df(all_data)"
   ]
  },
  {
   "cell_type": "markdown",
   "metadata": {},
   "source": [
    "### Correlation matrix with statistical significance"
   ]
  },
  {
   "cell_type": "code",
   "execution_count": null,
   "metadata": {},
   "outputs": [],
   "source": [
    "def create_correlation_matrix(df):\n",
    "    rho = df.corr()\n",
    "    p_values = df.corr(method=lambda x, y: stats.pearsonr(x, y)[1]) - np.eye(*rho.shape)\n",
    "    significance_level = p_values.applymap(\n",
    "        lambda x: \"\".join([\"*\" for alpha in [0.01, 0.05, 0.1] if x <= alpha])\n",
    "    )\n",
    "    return rho.round(2).astype(str) + \" \" + significance_level"
   ]
  },
  {
   "cell_type": "code",
   "execution_count": null,
   "metadata": {},
   "outputs": [],
   "source": [
    "corr_matrix = create_correlation_matrix(all_data_normal).iloc[\n",
    "    : meta_data.shape[1] - 1, meta_data.shape[1] - 1 :\n",
    "]"
   ]
  },
  {
   "cell_type": "code",
   "execution_count": null,
   "metadata": {},
   "outputs": [],
   "source": [
    "# corr_matrix"
   ]
  },
  {
   "cell_type": "code",
   "execution_count": null,
   "metadata": {},
   "outputs": [],
   "source": [
    "def correlation_matrix_to_table(corr_matrix):\n",
    "    feature_1_list = []\n",
    "    feature_2_list = []\n",
    "    value_list = []\n",
    "\n",
    "    for column in corr_matrix.columns:\n",
    "        for index in corr_matrix.index:\n",
    "            value_list.append(corr_matrix.loc[index, column])\n",
    "            feature_1_list.append(index)\n",
    "            feature_2_list.append(column)\n",
    "\n",
    "    return pd.DataFrame(\n",
    "        {\n",
    "            \"Correlation\": value_list,\n",
    "            \"Feature 1\": feature_1_list,\n",
    "            \"Feature 2\": feature_2_list,\n",
    "        }\n",
    "    )"
   ]
  },
  {
   "cell_type": "code",
   "execution_count": null,
   "metadata": {},
   "outputs": [],
   "source": [
    "corr = correlation_matrix_to_table(corr_matrix)"
   ]
  },
  {
   "cell_type": "code",
   "execution_count": null,
   "metadata": {},
   "outputs": [],
   "source": [
    "corr[[\"Corr. Strength\", \"Significance Level\"]] = corr.Correlation.str.split(\n",
    "    \" \", expand=True,\n",
    ")\n",
    "corr[\"Corr. Strength\"] = corr[\"Corr. Strength\"].astype(\"float\")\n",
    "corr[\"Corr. Strength Absol.\"] = corr[\"Corr. Strength\"].apply(lambda x: abs(x))"
   ]
  },
  {
   "cell_type": "code",
   "execution_count": null,
   "metadata": {},
   "outputs": [],
   "source": [
    "corr.sort_values(by=[\"Corr. Strength Absol.\"], ascending=False)\n",
    "corr_top = (\n",
    "    corr[corr[\"Significance Level\"].str.contains(\"\\*\")]\n",
    "    .drop(labels=\"Correlation\", axis=1)\n",
    "    .sort_values(by=[\"Corr. Strength Absol.\"], ascending=False)\n",
    "    .reset_index(drop=True)\n",
    ")"
   ]
  },
  {
   "cell_type": "code",
   "execution_count": null,
   "metadata": {},
   "outputs": [],
   "source": [
    "corr_top"
   ]
  },
  {
   "cell_type": "markdown",
   "metadata": {},
   "source": [
    "# Scoring"
   ]
  },
  {
   "cell_type": "code",
   "execution_count": null,
   "metadata": {},
   "outputs": [],
   "source": [
    "def plot_distribution_scores(df, rows, columns):\n",
    "    fig, axes = plt.subplots(rows, columns, figsize=(30, 30))\n",
    "    axes_list = [ax for sublist in axes for ax in sublist]\n",
    "    plt.subplots_adjust(wspace=0.5, hspace=0.5)\n",
    "\n",
    "    for i, column in enumerate(df.columns):\n",
    "        sns.histplot(df, x=column, binwidth=1, kde=True, ax=axes_list[i])\n",
    "\n",
    "    plt.show()"
   ]
  },
  {
   "cell_type": "markdown",
   "metadata": {},
   "source": [
    "### Calculate scores"
   ]
  },
  {
   "cell_type": "markdown",
   "metadata": {},
   "source": [
    "#### Catch scores"
   ]
  },
  {
   "cell_type": "code",
   "execution_count": null,
   "metadata": {},
   "outputs": [],
   "source": [
    "scores_data = pd.DataFrame(index=all_data_boxcox_transf.index)\n",
    "\n",
    "catch_metrics = [\n",
    "    \"Entrances\",\n",
    "    \"Entrance Rate\",\n",
    "    \"Bounce Rate\",\n",
    "    \"Organic Entrances\",\n",
    "    \"Organic Entrance Rate\",\n",
    "    \"Organic Bounce Rate\",\n",
    "]\n",
    "\n",
    "for i, metric in enumerate(catch_metrics):\n",
    "\n",
    "    if \"Bounce\" in metric:\n",
    "        scores_data[f\"Catch Score {i+1} ({metric})\"] = pd.cut(\n",
    "            all_data_boxcox_transf[metric], 10, labels=[10, 9, 8, 7, 6, 5, 4, 3, 2, 1]\n",
    "        ).astype(\"int\")\n",
    "\n",
    "    else:\n",
    "        scores_data[f\"Catch Score {i+1} ({metric})\"] = pd.cut(\n",
    "            all_data_boxcox_transf[metric], 10, labels=[1, 2, 3, 4, 5, 6, 7, 8, 9, 10]\n",
    "        ).astype(\"int\")\n",
    "\n",
    "scores_data[\"Catch Total Score\"] = (\n",
    "    scores_data.iloc[:, 0]\n",
    "    + scores_data.iloc[:, 1]\n",
    "    + scores_data.iloc[:, 2]\n",
    "    + scores_data.iloc[:, 3]\n",
    "    + scores_data.iloc[:, 4]\n",
    "    + scores_data.iloc[:, 5]\n",
    ") / 6\n",
    "\n",
    "scores_data[\"Catch Total Score (Final)\"] = scores_data[\"Catch Total Score\"].round(1)"
   ]
  },
  {
   "cell_type": "markdown",
   "metadata": {},
   "source": [
    "#### Connect scores"
   ]
  },
  {
   "cell_type": "code",
   "execution_count": null,
   "metadata": {},
   "outputs": [],
   "source": [
    "connect_metrics = [\n",
    "    \"Avg. Time on Page (s)\",\n",
    "    \"Exit Rate\",\n",
    "    \"Unique Pageviews\",\n",
    "]\n",
    "\n",
    "# Left out Avg. Session Duration, Pages / Session as this is sparse data due to it only being provided\n",
    "# for sessions where the page was the landing page (penalising pages that aren't good landing pages)\n",
    "\n",
    "# How to penalise unique pageviews score when page path level is low?\n",
    "\n",
    "all_data_boxcox_transf.columns\n",
    "\n",
    "for i, metric in enumerate(connect_metrics):\n",
    "    if \"Exit\" in metric:\n",
    "        scores_data[f\"Connect Score {i+1} ({metric})\"] = pd.cut(\n",
    "            all_data_boxcox_transf[metric], 10, labels=[10, 9, 8, 7, 6, 5, 4, 3, 2, 1]\n",
    "        ).astype(\"int\")\n",
    "\n",
    "    else:\n",
    "        scores_data[f\"Connect Score {i+1} ({metric})\"] = pd.cut(\n",
    "            all_data_boxcox_transf[metric], 10, labels=[1, 2, 3, 4, 5, 6, 7, 8, 9, 10]\n",
    "        ).astype(\"int\")\n",
    "\n",
    "scores_data[\"Connect Total Score\"] = (\n",
    "    scores_data.iloc[:, 8] + scores_data.iloc[:, 9] + scores_data.iloc[:, 10]\n",
    ") / 3\n",
    "\n",
    "scores_data[\"Connect Total Score (Final)\"] = scores_data[\"Connect Total Score\"].round(1)"
   ]
  },
  {
   "cell_type": "markdown",
   "metadata": {},
   "source": [
    "#### Convert scores"
   ]
  },
  {
   "cell_type": "code",
   "execution_count": null,
   "metadata": {},
   "outputs": [],
   "source": [
    "convert_metrics = [\n",
    "    \"Event Rate\",\n",
    "    \"Unique Events\",\n",
    "    \"Conversion Rate (1)\",\n",
    "    \"Conversion Rate (2)\",\n",
    "    \"Conversion Rate (3)\",\n",
    "    \"Conversion Rate (All)\",\n",
    "    \"Goal Completions (All)\",\n",
    "]\n",
    "\n",
    "for i, metric in enumerate(convert_metrics):\n",
    "    scores_data[f\"Convert Score {i+1} ({metric})\"] = pd.cut(\n",
    "        all_data_boxcox_transf[metric], 10, labels=[1, 2, 3, 4, 5, 6, 7, 8, 9, 10]\n",
    "    ).astype(\"int\")\n",
    "\n",
    "scores_data[\"Convert Total Score\"] = (\n",
    "    scores_data.iloc[:, 13]\n",
    "    + scores_data.iloc[:, 14]\n",
    "    + scores_data.iloc[:, 15]\n",
    "    + scores_data.iloc[:, 16]\n",
    "    + scores_data.iloc[:, 17]\n",
    "    + scores_data.iloc[:, 18]\n",
    "    + scores_data.iloc[:, 19]\n",
    ") / 7\n",
    "\n",
    "scores_data[\"Convert Total Score (Final)\"] = scores_data[\"Convert Total Score\"].round(1)"
   ]
  },
  {
   "cell_type": "markdown",
   "metadata": {},
   "source": [
    "### Plot scores"
   ]
  },
  {
   "cell_type": "markdown",
   "metadata": {},
   "source": [
    "#### Catch scores"
   ]
  },
  {
   "cell_type": "code",
   "execution_count": null,
   "metadata": {},
   "outputs": [],
   "source": [
    "plot_distribution_scores(scores_data.iloc[:, :8], 4, 2)"
   ]
  },
  {
   "cell_type": "markdown",
   "metadata": {},
   "source": [
    "#### Connect scores"
   ]
  },
  {
   "cell_type": "code",
   "execution_count": null,
   "metadata": {},
   "outputs": [],
   "source": [
    "plot_distribution_scores(scores_data.iloc[:, 8:13], 3, 2)"
   ]
  },
  {
   "cell_type": "markdown",
   "metadata": {},
   "source": [
    "#### Convert scores"
   ]
  },
  {
   "cell_type": "code",
   "execution_count": null,
   "metadata": {},
   "outputs": [],
   "source": [
    "plot_distribution_scores(scores_data.iloc[:, 13:], 5, 2)"
   ]
  },
  {
   "cell_type": "markdown",
   "metadata": {},
   "source": [
    "### Select top and bottom scoring URLs"
   ]
  },
  {
   "cell_type": "code",
   "execution_count": null,
   "metadata": {},
   "outputs": [],
   "source": [
    "top_20_index = list(range(1, 21))\n",
    "catch_top = (\n",
    "    scores_data.sort_values(\n",
    "        by=[\"Catch Total Score\", \"Catch Score 1 (Entrances)\"], ascending=False\n",
    "    )\n",
    "    .iloc[0:20, 7]\n",
    "    .reset_index()\n",
    "    .set_index(pd.Series(top_20_index))\n",
    ")\n",
    "connect_top = (\n",
    "    scores_data.sort_values(\n",
    "        by=[\"Connect Total Score\", \"Connect Score 3 (Unique Pageviews)\"],\n",
    "        ascending=False,\n",
    "    )\n",
    "    .iloc[0:20, 12]\n",
    "    .reset_index()\n",
    "    .set_index(pd.Series(top_20_index))\n",
    ")\n",
    "convert_top = (\n",
    "    scores_data.sort_values(\n",
    "        by=[\"Convert Total Score\", \"Convert Score 7 (Goal Completions (All))\"],\n",
    "        ascending=False,\n",
    "    )\n",
    "    .iloc[0:20, -1]\n",
    "    .reset_index()\n",
    "    .set_index(pd.Series(top_20_index))\n",
    ")"
   ]
  },
  {
   "cell_type": "code",
   "execution_count": null,
   "metadata": {},
   "outputs": [],
   "source": [
    "catch_bottom = (\n",
    "    scores_data.sort_values(by=[\"Catch Total Score\", \"Catch Score 1 (Entrances)\"])\n",
    "    .iloc[0:20, 7]\n",
    "    .reset_index()\n",
    "    .set_index(pd.Series(top_20_index))\n",
    ")\n",
    "connect_bottom = (\n",
    "    scores_data.sort_values(\n",
    "        by=[\"Connect Total Score\", \"Connect Score 3 (Unique Pageviews)\"]\n",
    "    )\n",
    "    .iloc[0:20, 12]\n",
    "    .reset_index()\n",
    "    .set_index(pd.Series(top_20_index))\n",
    ")\n",
    "convert_bottom = (\n",
    "    scores_data.sort_values(\n",
    "        by=[\"Convert Total Score\", \"Convert Score 7 (Goal Completions (All))\"]\n",
    "    )\n",
    "    .iloc[0:20, -1]\n",
    "    .reset_index()\n",
    "    .set_index(pd.Series(top_20_index))\n",
    ")"
   ]
  },
  {
   "cell_type": "markdown",
   "metadata": {},
   "source": [
    "#### Catch scores"
   ]
  },
  {
   "cell_type": "code",
   "execution_count": null,
   "metadata": {},
   "outputs": [],
   "source": [
    "catch_top"
   ]
  },
  {
   "cell_type": "code",
   "execution_count": null,
   "metadata": {},
   "outputs": [],
   "source": [
    "catch_bottom"
   ]
  },
  {
   "cell_type": "markdown",
   "metadata": {},
   "source": [
    "#### Connect scores"
   ]
  },
  {
   "cell_type": "code",
   "execution_count": null,
   "metadata": {},
   "outputs": [],
   "source": [
    "connect_top"
   ]
  },
  {
   "cell_type": "code",
   "execution_count": null,
   "metadata": {},
   "outputs": [],
   "source": [
    "connect_bottom"
   ]
  },
  {
   "cell_type": "markdown",
   "metadata": {},
   "source": [
    "#### Convert scores"
   ]
  },
  {
   "cell_type": "code",
   "execution_count": null,
   "metadata": {},
   "outputs": [],
   "source": [
    "convert_top"
   ]
  },
  {
   "cell_type": "code",
   "execution_count": null,
   "metadata": {},
   "outputs": [],
   "source": [
    "convert_bottom"
   ]
  },
  {
   "cell_type": "markdown",
   "metadata": {},
   "source": [
    "# Recommendations"
   ]
  },
  {
   "cell_type": "markdown",
   "metadata": {},
   "source": [
    "## Meta data reference stats for top scoring pages"
   ]
  },
  {
   "cell_type": "markdown",
   "metadata": {},
   "source": [
    "### Catch"
   ]
  },
  {
   "cell_type": "code",
   "execution_count": null,
   "metadata": {},
   "outputs": [],
   "source": [
    "top_catch_meta = all_data.loc[convert_bottom[\"URL\"],:].iloc[:,:meta_data.shape[1]-1]\n",
    "top_catch_meta.mean()\n",
    "top_catch_meta_df = pd.DataFrame({\"Mean\": top_catch_meta.mean(), \"Max\": top_catch_meta.max(), \"Min\": top_catch_meta.min()})"
   ]
  },
  {
   "cell_type": "code",
   "execution_count": null,
   "metadata": {},
   "outputs": [],
   "source": [
    "top_catch_meta_df"
   ]
  },
  {
   "cell_type": "markdown",
   "metadata": {},
   "source": [
    "### Connect"
   ]
  },
  {
   "cell_type": "code",
   "execution_count": null,
   "metadata": {},
   "outputs": [],
   "source": [
    "top_connect_meta = all_data.loc[connect_bottom[\"URL\"],:].iloc[:,:meta_data.shape[1]-1]\n",
    "top_connect_meta.mean()\n",
    "top_connect_meta_df = pd.DataFrame({\"Mean\": top_connect_meta.mean(), \"Max\": top_connect_meta.max(), \"Min\": top_connect_meta.min()})"
   ]
  },
  {
   "cell_type": "code",
   "execution_count": null,
   "metadata": {},
   "outputs": [],
   "source": [
    "top_connect_meta_df"
   ]
  },
  {
   "cell_type": "markdown",
   "metadata": {},
   "source": [
    "### Convert"
   ]
  },
  {
   "cell_type": "code",
   "execution_count": null,
   "metadata": {},
   "outputs": [],
   "source": [
    "top_convert_meta = all_data.loc[convert_bottom[\"URL\"],:].iloc[:,:meta_data.shape[1]-1]\n",
    "top_convert_meta_df = pd.DataFrame({\"Mean\": top_convert_meta.mean(), \"Max\": top_convert_meta.max(), \"Min\": top_convert_meta.min()})"
   ]
  },
  {
   "cell_type": "code",
   "execution_count": null,
   "metadata": {},
   "outputs": [],
   "source": [
    "top_convert_meta_df"
   ]
  },
  {
   "cell_type": "markdown",
   "metadata": {},
   "source": [
    "## Most influencing factors"
   ]
  },
  {
   "cell_type": "code",
   "execution_count": null,
   "metadata": {},
   "outputs": [],
   "source": [
    "def get_increase_action(row):\n",
    "    if row[\"Corr. Strength\"] > 0:\n",
    "        increase_action = \"by INCREASING\"\n",
    "    else:\n",
    "        increase_action = \"by DECREASING\"\n",
    "        \n",
    "    return increase_action\n",
    "\n",
    "def get_action_effect(row):\n",
    "    if abs(row[\"Corr. Strength\"]) > 0.7:\n",
    "        action_effect = \"may be INCREASED GREATLY\"\n",
    "    elif abs(row[\"Corr. Strength\"]) > 0.5:\n",
    "        action_effect = \"may be INCREASED\"\n",
    "    else:\n",
    "        action_effect = \"may be INCREASED SLIGHTLY\"\n",
    "        \n",
    "    return action_effect\n",
    "\n",
    "def reverse_actions_and_effects(row):\n",
    "    if row[\"Feature 2\"] in [\"Bounce Rate\", \"Organic Bounce Rate\"]:\n",
    "        if \"INCREASING\" in row[\"Action\"]:\n",
    "            row[\"Action\"] = row[\"Action\"].replace(\"INCREASING\", \"DECREASING\")\n",
    "        elif \"DECREASING\" in row[\"Action\"]:\n",
    "            row[\"Action\"] = row[\"Action\"].replace(\"DECREASING\", \"INCREASING\")\n",
    "            \n",
    "        row[\"Effect\"] = row[\"Effect\"].replace(\"INCREASED\", \"DECREASED\")\n",
    "        \n",
    "    return row"
   ]
  },
  {
   "cell_type": "markdown",
   "metadata": {},
   "source": [
    "### Catch scores"
   ]
  },
  {
   "cell_type": "code",
   "execution_count": null,
   "metadata": {},
   "outputs": [],
   "source": [
    "pd.set_option(\"display.max_colwidth\",None)\n",
    "\n",
    "corr_top_catch = corr_top[corr_top[\"Feature 2\"].isin(catch_metrics)][[\"Feature 2\",\"Feature 1\",\"Corr. Strength\"]]\n",
    "corr_top_catch[\"Action\"] = corr_top_catch.apply(get_increase_action, axis=1)\n",
    "corr_top_catch[\"Effect\"] = corr_top_catch.apply(get_action_effect, axis=1)\n",
    "corr_top_catch.sort_values(by=[\"Feature 2\"]).drop(columns=[\"Corr. Strength\"])\n",
    "corr_top_catch = corr_top_catch.groupby([\"Feature 2\", \"Action\", \"Effect\"]).agg({'Feature 1': lambda x: ', '.join(x)}).reset_index()\n",
    "corr_top_catch = corr_top_catch[[\"Feature 2\", \"Effect\", \"Action\", \"Feature 1\"]].apply(reverse_actions_and_effects, axis=1)\n",
    "corr_top_catch"
   ]
  },
  {
   "cell_type": "markdown",
   "metadata": {},
   "source": [
    "### Connect scores"
   ]
  },
  {
   "cell_type": "code",
   "execution_count": null,
   "metadata": {},
   "outputs": [],
   "source": [
    "pd.set_option(\"display.max_colwidth\",None)\n",
    "\n",
    "corr_top_connect = corr_top[corr_top[\"Feature 2\"].isin(connect_metrics)][[\"Feature 2\",\"Feature 1\",\"Corr. Strength\"]]\n",
    "corr_top_connect[\"Action\"] = corr_top_connect.apply(get_increase_action, axis=1)\n",
    "corr_top_connect[\"Effect\"] = corr_top_connect.apply(get_action_effect, axis=1)\n",
    "corr_top_connect.sort_values(by=[\"Feature 2\"]).drop(columns=[\"Corr. Strength\"])\n",
    "corr_top_connect = corr_top_connect.groupby([\"Feature 2\", \"Action\", \"Effect\"]).agg({'Feature 1': lambda x: ', '.join(x)}).reset_index()\n",
    "corr_top_connect = corr_top_connect[[\"Feature 2\", \"Effect\", \"Action\", \"Feature 1\"]].apply(reverse_actions_and_effects, axis=1)\n",
    "corr_top_connect"
   ]
  },
  {
   "cell_type": "markdown",
   "metadata": {},
   "source": [
    "### Convert scores"
   ]
  },
  {
   "cell_type": "code",
   "execution_count": null,
   "metadata": {},
   "outputs": [],
   "source": [
    "pd.set_option(\"display.max_colwidth\",None)\n",
    "\n",
    "corr_top_convert = corr_top[corr_top[\"Feature 2\"].isin(convert_metrics)][[\"Feature 2\",\"Feature 1\",\"Corr. Strength\"]]\n",
    "corr_top_convert[\"Action\"] = corr_top_convert.apply(get_increase_action, axis=1)\n",
    "corr_top_convert[\"Effect\"] = corr_top_convert.apply(get_action_effect, axis=1)\n",
    "corr_top_convert.sort_values(by=[\"Feature 2\"]).drop(columns=[\"Corr. Strength\"])\n",
    "corr_top_convert = corr_top_convert.groupby([\"Feature 2\", \"Action\", \"Effect\"]).agg({'Feature 1': lambda x: ', '.join(x)}).reset_index()\n",
    "corr_top_convert = corr_top_convert[[\"Feature 2\", \"Effect\", \"Action\", \"Feature 1\"]].apply(reverse_actions_and_effects, axis=1)\n",
    "corr_top_convert"
   ]
  },
  {
   "cell_type": "markdown",
   "metadata": {},
   "source": [
    "# Exporting Data into Google Sheets"
   ]
  },
  {
   "cell_type": "code",
   "execution_count": null,
   "metadata": {},
   "outputs": [],
   "source": [
    "import gspread"
   ]
  },
  {
   "cell_type": "code",
   "execution_count": null,
   "metadata": {},
   "outputs": [],
   "source": [
    "output_dfs = {\n",
    "    \"All scores\": scores_data,\n",
    "    \"Top scoring pages 'catch'\": catch_top,\n",
    "    \"Top scoring pages 'connect'\": connect_top,\n",
    "    \"Top scoring pages 'convert'\": convert_top,\n",
    "    \"Bottom scoring pages 'catch'\": convert_bottom,\n",
    "    \"Bottom scoring pages 'connect'\": convert_bottom,\n",
    "    \"Bottom scoring pages 'convert'\": convert_bottom,  \n",
    "    \"Meta stats top scoring pages 'catch'\": top_catch_meta_df,\n",
    "    \"Meta stats top scoring pages 'connect'\": top_connect_meta_df,\n",
    "    \"Meta stats top scoring pages 'convert'\": top_convert_meta_df,\n",
    "    \"Most influential factors 'catch'\": corr_top_catch,\n",
    "    \"Most influential factors 'connect'\": corr_top_connect,\n",
    "    \"Most influential factors 'convert'\": corr_top_convert,\n",
    "    \"Correlations\": corr_top\n",
    "}"
   ]
  },
  {
   "cell_type": "code",
   "execution_count": null,
   "metadata": {},
   "outputs": [],
   "source": [
    "client_name = os.environ['COMPANY_NAME']\n",
    "title = \"Content Performance Indicator Output\"+\" \"+client_name\n",
    "gc = gspread.oauth()\n",
    "\n",
    "try:\n",
    "    sh = gc.open(title)\n",
    "except gspread.SpreadsheetNotFound:\n",
    "    print(\"file does not exist yet\")\n",
    "    sh = gc.create(title)\n",
    "\n",
    "sh_id = sh.id"
   ]
  },
  {
   "cell_type": "code",
   "execution_count": null,
   "metadata": {},
   "outputs": [],
   "source": [
    "def create_worksheet_gsheet(dfs):\n",
    "    for title, df in dfs.items():\n",
    "        \n",
    "        dfc = df.copy().reset_index()\n",
    "        retry = True\n",
    "        while retry:\n",
    "            retry = False\n",
    "            try:\n",
    "                sh_ws = sh.worksheet(title)\n",
    "                sh.del_worksheet(sh_ws)\n",
    "                sh_ws = sh.add_worksheet(title, dfc.shape[0], dfc.shape[1])\n",
    "            except gspread.WorksheetNotFound as e:\n",
    "                print(e)\n",
    "                try:\n",
    "                    sh_ws = sh.add_worksheet(title, dfc.shape[0], dfc.shape[1])\n",
    "                except gspread.exceptions.APIError as e:\n",
    "                    print(e)\n",
    "                    if e.response.status_code == 429:\n",
    "                        print(\"1 - Wait 60s\")\n",
    "                        time.sleep(60)\n",
    "                        retry = True\n",
    "            except gspread.exceptions.APIError as e:\n",
    "                print(e)\n",
    "                if e.response.status_code == 429:\n",
    "                    print(\"2 - Wait 60s\")\n",
    "                    time.sleep(60)\n",
    "                    retry = True\n",
    "            try:\n",
    "                sh_ws.insert_rows(dfc.values.tolist())\n",
    "                sh_ws.insert_row(dfc.columns.tolist())\n",
    "                                \n",
    "            except gspread.exceptions.APIError as e:\n",
    "                print(e)\n",
    "                if e.response.status_code == 429:\n",
    "                    print(\"3 - Wait 60s\")\n",
    "                    time.sleep(60)\n",
    "                    retry = True\n",
    "                    \n",
    "create_worksheet_gsheet(output_dfs)         "
   ]
  },
  {
   "cell_type": "code",
   "execution_count": null,
   "metadata": {},
   "outputs": [],
   "source": []
  }
 ],
 "metadata": {
  "kernelspec": {
   "display_name": "Python 3",
   "language": "python",
   "name": "python3"
  },
  "language_info": {
   "codemirror_mode": {
    "name": "ipython",
    "version": 3
   },
   "file_extension": ".py",
   "mimetype": "text/x-python",
   "name": "python",
   "nbconvert_exporter": "python",
   "pygments_lexer": "ipython3",
   "version": "3.7.8rc1"
  }
 },
 "nbformat": 4,
 "nbformat_minor": 2
}
